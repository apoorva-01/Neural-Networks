{
 "cells": [
  {
   "cell_type": "code",
   "execution_count": 1,
   "metadata": {},
   "outputs": [],
   "source": [
    "import numpy as np\n",
    "import scipy.special\n",
    "\n",
    "#The query() function takes the input to a neural network and returns the network’s output."
   ]
  },
  {
   "cell_type": "code",
   "execution_count": 2,
   "metadata": {},
   "outputs": [],
   "source": [
    "# Basic Skeleton\n",
    "\n",
    "class neural_network:\n",
    "    def __init__(self,input_nodes,hidden_nodes,output_nodes,learning_rate):\n",
    "        self.inodes=input_nodes\n",
    "        self.hnodes=hidden_nodes\n",
    "        self.onodes=output_nodes\n",
    "        self.lr=learning_rate\n",
    "        \n",
    "        self.w_ih=np.random.rand(self.hnodes,self.inodes)-0.5\n",
    "        self.w_ho=np.random.rand(self.onodes,self.hnodes)-0.5\n",
    "        # self.wih = numpy.random.normal(0.0, pow(self.hnodes, -0.5),(self.hnodes, self.inodes))\n",
    "        # self.who = numpy.random.normal(0.0, pow(self.onodes, -0.5),(self.onodes, self.hnodes))\n",
    "        \n",
    "        \n",
    "        self.activation_function = lambda x: scipy.special.expit(x)\n",
    "\n",
    "        pass\n",
    "    \n",
    "    def query(self,inputs_list):\n",
    "        \n",
    "        # convert inputs list to 2d Transpose Array\n",
    "        # For Input and Hidden layer\n",
    "        inputs=np.array(inputs_list,ndmin=2).T\n",
    "        hidden_inputs=np.dot(self.w_ih,inputs)\n",
    "        hidden_outputs = self.activation_function(hidden_inputs)\n",
    "        \n",
    "        final_inputs = np.dot(self.w_ho, hidden_outputs)\n",
    "        final_outputs = self.activation_function(final_inputs)\n",
    "        \n",
    "        return final_outputs\n",
    "\n",
    "        \n",
    "    def train(self, inputs_list, targets_list):\n",
    "        # convert inputs list to 2d Transpose Array\n",
    "        # For Input and Hidden layer\n",
    "        inputs=np.array(inputs_list,ndmin=2).T\n",
    "        hidden_inputs=np.dot(self.w_ih,inputs)\n",
    "        hidden_outputs = self.activation_function(hidden_inputs)\n",
    "        \n",
    "        final_inputs = np.dot(self.w_ho, hidden_outputs)\n",
    "        final_outputs = self.activation_function(final_inputs)\n",
    "        \n",
    "        targets = numpy.array(targets_list, ndmin=2).T\n",
    "        output_errors = targets - final_outputs\n",
    "        \n",
    "        hidden_errors = np.dot(self.who.T, output_errors)\n",
    "        \n",
    "        # update the weights for the links between the hidden and output layers\n",
    "        self.w_ho += self.lr * np.dot((output_errors * final_outputs *(1.0 - final_outputs)), np.transpose(hidden_outputs))\n",
    "        \n",
    "        self.w_ih += self.lr * np.dot((hidden_errors * hidden_outputs *(1.0 - hidden_outputs)), np.transpose(inputs))\n",
    "       \n",
    "    \n",
    "\n",
    "\n",
    "        \n",
    "        \n",
    "        "
   ]
  },
  {
   "cell_type": "code",
   "execution_count": 3,
   "metadata": {},
   "outputs": [
    {
     "name": "stdout",
     "output_type": "stream",
     "text": [
      "Please Enter Number of input nodes :3\n"
     ]
    }
   ],
   "source": [
    "input_nodes=int(input(\"Please Enter Number of input nodes :\"))"
   ]
  },
  {
   "cell_type": "code",
   "execution_count": 4,
   "metadata": {},
   "outputs": [
    {
     "name": "stdout",
     "output_type": "stream",
     "text": [
      "Please Enter Number of hidden nodes :3\n"
     ]
    }
   ],
   "source": [
    "hidden_nodes=int(input(\"Please Enter Number of hidden nodes :\")) "
   ]
  },
  {
   "cell_type": "code",
   "execution_count": 5,
   "metadata": {},
   "outputs": [
    {
     "name": "stdout",
     "output_type": "stream",
     "text": [
      "Please Enter Number of output nodes :3\n"
     ]
    }
   ],
   "source": [
    "output_nodes=int(input(\"Please Enter Number of output nodes :\"))"
   ]
  },
  {
   "cell_type": "code",
   "execution_count": 6,
   "metadata": {},
   "outputs": [
    {
     "name": "stdout",
     "output_type": "stream",
     "text": [
      "Please Enter Learning Rate For our Neural Network :3\n"
     ]
    }
   ],
   "source": [
    "learning_rate=float(input(\"Please Enter Learning Rate For our Neural Network :\"))"
   ]
  },
  {
   "cell_type": "code",
   "execution_count": 7,
   "metadata": {},
   "outputs": [],
   "source": [
    "n = neural_network(input_nodes,hidden_nodes,output_nodes,learning_rate)"
   ]
  },
  {
   "cell_type": "code",
   "execution_count": 8,
   "metadata": {},
   "outputs": [
    {
     "data": {
      "text/plain": [
       "array([[0.61036554],\n",
       "       [0.62522361],\n",
       "       [0.51471254]])"
      ]
     },
     "execution_count": 8,
     "metadata": {},
     "output_type": "execute_result"
    }
   ],
   "source": [
    "n.query((1.0, 0.5, -1.5))"
   ]
  },
  {
   "cell_type": "code",
   "execution_count": null,
   "metadata": {},
   "outputs": [],
   "source": []
  },
  {
   "cell_type": "code",
   "execution_count": null,
   "metadata": {},
   "outputs": [],
   "source": []
  }
 ],
 "metadata": {
  "kernelspec": {
   "display_name": "Python 3",
   "language": "python",
   "name": "python3"
  },
  "language_info": {
   "codemirror_mode": {
    "name": "ipython",
    "version": 3
   },
   "file_extension": ".py",
   "mimetype": "text/x-python",
   "name": "python",
   "nbconvert_exporter": "python",
   "pygments_lexer": "ipython3",
   "version": "3.8.5"
  }
 },
 "nbformat": 4,
 "nbformat_minor": 4
}
